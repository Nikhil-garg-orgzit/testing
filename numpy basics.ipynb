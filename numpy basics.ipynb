{
 "cells": [
  {
   "cell_type": "markdown",
   "id": "d2260e74-717c-4474-a80e-321bac13f66c",
   "metadata": {},
   "source": [
    "# Loading Numpy\n"
   ]
  },
  {
   "cell_type": "code",
   "execution_count": 1,
   "id": "649401ba-c1dc-4415-b776-814e508cc298",
   "metadata": {},
   "outputs": [],
   "source": [
    "import numpy as np"
   ]
  },
  {
   "cell_type": "markdown",
   "id": "1a013c6b-05a8-42f5-be50-d4640fa07e9f",
   "metadata": {},
   "source": [
    "## 1. Create numpy array\n",
    "\n"
   ]
  },
  {
   "cell_type": "code",
   "execution_count": 2,
   "id": "02ee187f-069d-4486-afc6-4ebb110e5349",
   "metadata": {},
   "outputs": [],
   "source": [
    "# array from python list\n",
    "\n",
    "list1 = [2,4,6,8,10]\n",
    "\n",
    "arr1 = np.array(list1)\n",
    "\n"
   ]
  },
  {
   "cell_type": "code",
   "execution_count": 3,
   "id": "490afcd6-cddf-40e4-a373-3b4d75429d6d",
   "metadata": {},
   "outputs": [
    {
     "data": {
      "text/plain": [
       "array([ 2,  4,  6,  8, 10])"
      ]
     },
     "execution_count": 3,
     "metadata": {},
     "output_type": "execute_result"
    }
   ],
   "source": [
    "arr1\n"
   ]
  },
  {
   "cell_type": "code",
   "execution_count": 4,
   "id": "1c044ad4-c87b-415f-82fa-79a19e9911bd",
   "metadata": {},
   "outputs": [
    {
     "data": {
      "text/plain": [
       "[2, 4, 6, 8, 10]"
      ]
     },
     "execution_count": 4,
     "metadata": {},
     "output_type": "execute_result"
    }
   ],
   "source": [
    "list1"
   ]
  },
  {
   "cell_type": "code",
   "execution_count": 5,
   "id": "f2a23aa9-2947-4acd-884c-30bb64377377",
   "metadata": {},
   "outputs": [
    {
     "data": {
      "text/plain": [
       "list"
      ]
     },
     "execution_count": 5,
     "metadata": {},
     "output_type": "execute_result"
    }
   ],
   "source": [
    "type(list1)\n"
   ]
  },
  {
   "cell_type": "code",
   "execution_count": 6,
   "id": "9f27f932-9323-4248-958d-c11dd1f93f51",
   "metadata": {},
   "outputs": [
    {
     "data": {
      "text/plain": [
       "numpy.ndarray"
      ]
     },
     "execution_count": 6,
     "metadata": {},
     "output_type": "execute_result"
    }
   ],
   "source": [
    "type(arr1)"
   ]
  },
  {
   "cell_type": "markdown",
   "id": "39bf5926-92cd-4c5b-9455-64354a1aa3d7",
   "metadata": {},
   "source": [
    "##### why we need array as we have list\n"
   ]
  },
  {
   "cell_type": "code",
   "execution_count": 7,
   "id": "a078bd16-acbb-4293-a3c7-4e2c06682869",
   "metadata": {},
   "outputs": [],
   "source": [
    "# Verterize operations are not possible on list but they are possible on array\n",
    "\n",
    "# lets see using array+1 and list+1 as we can see array add 1 to each element but list give error"
   ]
  },
  {
   "cell_type": "code",
   "execution_count": 8,
   "id": "6b3c0c06-2af0-4f20-b788-921203aa4c36",
   "metadata": {},
   "outputs": [
    {
     "data": {
      "text/plain": [
       "array([ 4,  6,  8, 10, 12])"
      ]
     },
     "execution_count": 8,
     "metadata": {},
     "output_type": "execute_result"
    }
   ],
   "source": [
    "arr1+2"
   ]
  },
  {
   "cell_type": "code",
   "execution_count": 9,
   "id": "e1fb4f1b-235a-4897-8a53-b391165c827b",
   "metadata": {},
   "outputs": [
    {
     "name": "stdout",
     "output_type": "stream",
     "text": [
      "error is there :-  can only concatenate list (not \"int\") to list\n"
     ]
    }
   ],
   "source": [
    "try:\n",
    "    list1+1\n",
    "except Exception as err:\n",
    "    print(\"error is there :- \" , err)"
   ]
  },
  {
   "cell_type": "code",
   "execution_count": 10,
   "id": "56a50ab2-8f7f-454f-ba58-b1e8b9efbac6",
   "metadata": {},
   "outputs": [],
   "source": [
    "list2 = [ [9,7,6,4], [2,4,6,7] ]\n",
    "\n",
    "arr2 = np.array(list2)\n"
   ]
  },
  {
   "cell_type": "code",
   "execution_count": 11,
   "id": "bc412554-9cce-4417-806f-f36a344b014b",
   "metadata": {},
   "outputs": [
    {
     "data": {
      "text/plain": [
       "array([[9, 7, 6, 4],\n",
       "       [2, 4, 6, 7]])"
      ]
     },
     "execution_count": 11,
     "metadata": {},
     "output_type": "execute_result"
    }
   ],
   "source": [
    "arr2"
   ]
  },
  {
   "cell_type": "code",
   "execution_count": 12,
   "id": "04d80384-d1ec-494d-8622-19aa2f63a599",
   "metadata": {},
   "outputs": [
    {
     "data": {
      "text/plain": [
       "[[9, 7, 6, 4], [2, 4, 6, 7]]"
      ]
     },
     "execution_count": 12,
     "metadata": {},
     "output_type": "execute_result"
    }
   ],
   "source": [
    "list2"
   ]
  },
  {
   "cell_type": "code",
   "execution_count": 13,
   "id": "a0486af6-ec28-4b38-9fe8-8d68d822e336",
   "metadata": {},
   "outputs": [
    {
     "data": {
      "text/plain": [
       "numpy.ndarray"
      ]
     },
     "execution_count": 13,
     "metadata": {},
     "output_type": "execute_result"
    }
   ],
   "source": [
    "type(arr2)\n"
   ]
  },
  {
   "cell_type": "code",
   "execution_count": 14,
   "id": "6a8ebfeb-2b6c-427d-af3e-f4c1ea65037d",
   "metadata": {},
   "outputs": [
    {
     "data": {
      "text/plain": [
       "list"
      ]
     },
     "execution_count": 14,
     "metadata": {},
     "output_type": "execute_result"
    }
   ],
   "source": [
    "type(list2)"
   ]
  },
  {
   "cell_type": "markdown",
   "id": "8f21a8d4-4bdb-4fbb-a19b-4ae58d9429f6",
   "metadata": {},
   "source": [
    "#### Now lets try to convert this integer list to float array using <font color =\"red\">dtype</font>"
   ]
  },
  {
   "cell_type": "code",
   "execution_count": 17,
   "id": "576eb4a3-2dc5-413f-801e-870d08fee529",
   "metadata": {},
   "outputs": [
    {
     "data": {
      "text/plain": [
       "[[9, 7, 6, 4], [2, 4, 6, 7]]"
      ]
     },
     "execution_count": 17,
     "metadata": {},
     "output_type": "execute_result"
    }
   ],
   "source": [
    "list2=[[9, 7, 6, 4], [2, 4, 6, 7]]\n",
    "list2"
   ]
  },
  {
   "cell_type": "code",
   "execution_count": 19,
   "id": "66a20bc4-cce8-4dcf-bf37-e261998db484",
   "metadata": {},
   "outputs": [
    {
     "data": {
      "text/plain": [
       "array([[9., 7., 6., 4.],\n",
       "       [2., 4., 6., 7.]])"
      ]
     },
     "execution_count": 19,
     "metadata": {},
     "output_type": "execute_result"
    }
   ],
   "source": [
    "arr3 = np.array(list2,dtype=\"float\")\n",
    "arr3"
   ]
  },
  {
   "cell_type": "markdown",
   "id": "e0ad7c14-ba2a-4245-b244-5aa205072a84",
   "metadata": {},
   "source": [
    "#### Now lets try to convert this float array again to integer array using <font color =\"red\">astype</font>"
   ]
  },
  {
   "cell_type": "code",
   "execution_count": 24,
   "id": "bf22217a-5b16-4d8d-8c89-b4b891cfa9a7",
   "metadata": {},
   "outputs": [
    {
     "name": "stdout",
     "output_type": "stream",
     "text": [
      "[[9 7 6 4]\n",
      " [2 4 6 7]]\n",
      "\n",
      "[[9. 7. 6. 4.]\n",
      " [2. 4. 6. 7.]]\n"
     ]
    }
   ],
   "source": [
    "arr4 = arr3.astype('int')\n",
    "print(arr4)\n",
    "print()\n",
    "print(arr3)"
   ]
  },
  {
   "cell_type": "markdown",
   "id": "86f15e8c-e032-4c6c-8116-5a2b6031f67e",
   "metadata": {},
   "source": [
    "#### Now lets try to convert this float array to boolean form  # here 0 is false else everything is true"
   ]
  },
  {
   "cell_type": "code",
   "execution_count": 28,
   "id": "f09c36e8-9852-4b02-89bc-3eaf59b1d4d7",
   "metadata": {},
   "outputs": [
    {
     "data": {
      "text/plain": [
       "array([[ True,  True,  True,  True],\n",
       "       [ True,  True,  True,  True]])"
      ]
     },
     "execution_count": 28,
     "metadata": {},
     "output_type": "execute_result"
    }
   ],
   "source": [
    "arr5  = np.array(list2,dtype = \"bool\")\n",
    "arr5"
   ]
  },
  {
   "cell_type": "code",
   "execution_count": 29,
   "id": "85baff39-7dc4-4052-8b33-fe7034d73b63",
   "metadata": {},
   "outputs": [
    {
     "data": {
      "text/plain": [
       "array([[ True,  True,  True,  True],\n",
       "       [ True,  True,  True,  True]])"
      ]
     },
     "execution_count": 29,
     "metadata": {},
     "output_type": "execute_result"
    }
   ],
   "source": [
    "arr6  = arr4.astype(\"bool\")\n",
    "arr6"
   ]
  },
  {
   "cell_type": "markdown",
   "id": "366bed9c-a09f-49e9-8865-64efc90c91a6",
   "metadata": {},
   "source": [
    "#### here now lets add to mix these data types mean single array which contains everything like int , float , string\n"
   ]
  },
  {
   "cell_type": "markdown",
   "id": "b463b46e-128e-476d-bea0-f9377f897130",
   "metadata": {},
   "source": [
    "list3 = [[2,3,4.0,\"NG\"],[3,4,5,\"hELLO\"]]\n",
    "\n",
    "arr7 = np.array(list3,dtype=\"object\")\n",
    "\n",
    "arr7"
   ]
  },
  {
   "cell_type": "markdown",
   "id": "7595f1d0-27ba-4800-9638-79f5fd2999fc",
   "metadata": {},
   "source": [
    "### convert array to list using <font color = \"red\">  tolist()</font>"
   ]
  },
  {
   "cell_type": "code",
   "execution_count": 32,
   "id": "52acf71a-b470-469a-9f33-3c24418eb8db",
   "metadata": {},
   "outputs": [
    {
     "data": {
      "text/plain": [
       "[[2, 3, 4.0, 'NG'], [3, 4, 5, 'hELLO']]"
      ]
     },
     "execution_count": 32,
     "metadata": {},
     "output_type": "execute_result"
    }
   ],
   "source": [
    "list4 = arr7.tolist()\n",
    "list4"
   ]
  },
  {
   "cell_type": "code",
   "execution_count": null,
   "id": "180172a2-fd19-4c27-8280-217f15b2a311",
   "metadata": {},
   "outputs": [],
   "source": []
  },
  {
   "cell_type": "code",
   "execution_count": null,
   "id": "aea7048a-ccfd-4f0d-91a8-6da6f8800684",
   "metadata": {},
   "outputs": [],
   "source": []
  },
  {
   "cell_type": "code",
   "execution_count": null,
   "id": "f99d51e7-eea0-4473-a210-8dfd324ef8d0",
   "metadata": {},
   "outputs": [],
   "source": []
  },
  {
   "cell_type": "code",
   "execution_count": null,
   "id": "a798ddd8-3f20-4110-8eab-359fff76c7c9",
   "metadata": {},
   "outputs": [],
   "source": []
  },
  {
   "cell_type": "code",
   "execution_count": null,
   "id": "62cc46f9-bbfc-45e0-8523-ac7c234271d0",
   "metadata": {},
   "outputs": [],
   "source": []
  },
  {
   "cell_type": "code",
   "execution_count": null,
   "id": "391c3d5a-1eab-46be-86d9-c63f214cf9b8",
   "metadata": {},
   "outputs": [],
   "source": []
  },
  {
   "cell_type": "code",
   "execution_count": null,
   "id": "c7269f98-2e37-4cdb-a390-b1e9f26c6329",
   "metadata": {},
   "outputs": [],
   "source": []
  },
  {
   "cell_type": "code",
   "execution_count": null,
   "id": "4dfdf5fb-e537-4375-ac6d-0a4a88e98d4a",
   "metadata": {},
   "outputs": [],
   "source": []
  },
  {
   "cell_type": "code",
   "execution_count": null,
   "id": "5f90c951-e1a3-4169-94ad-a4179c343fea",
   "metadata": {},
   "outputs": [],
   "source": []
  },
  {
   "cell_type": "code",
   "execution_count": null,
   "id": "5bd11f25-a16c-4d83-b3c4-359d6f3cc204",
   "metadata": {},
   "outputs": [],
   "source": []
  },
  {
   "cell_type": "code",
   "execution_count": null,
   "id": "a7e5a898-c42d-4bcd-9231-9438ded28872",
   "metadata": {},
   "outputs": [],
   "source": []
  },
  {
   "cell_type": "code",
   "execution_count": null,
   "id": "8a5a9760-d3fd-45dd-b458-36f859ed632e",
   "metadata": {},
   "outputs": [],
   "source": []
  }
 ],
 "metadata": {
  "kernelspec": {
   "display_name": "Python 3 (ipykernel)",
   "language": "python",
   "name": "python3"
  },
  "language_info": {
   "codemirror_mode": {
    "name": "ipython",
    "version": 3
   },
   "file_extension": ".py",
   "mimetype": "text/x-python",
   "name": "python",
   "nbconvert_exporter": "python",
   "pygments_lexer": "ipython3",
   "version": "3.12.7"
  }
 },
 "nbformat": 4,
 "nbformat_minor": 5
}
